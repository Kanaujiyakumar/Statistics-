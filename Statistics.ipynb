{
 "cells": [
  {
   "cell_type": "code",
   "execution_count": 1,
   "id": "a2526559-b5c3-4b3b-9257-842d105aefcf",
   "metadata": {},
   "outputs": [],
   "source": [
    "# 1. Generate a list o> R00 integers containing values between 90 to R30 and store it in the variable `int_list`.A>ter generating the list, >ind the >ollowing:"
   ]
  },
  {
   "cell_type": "code",
   "execution_count": 2,
   "id": "490ecf60-cc48-4e21-8119-29bd4ce04f6f",
   "metadata": {},
   "outputs": [
    {
     "name": "stdout",
     "output_type": "stream",
     "text": [
      "List of integers: [113, 128, 110, 94, 116, 110, 97, 120, 116, 103, 112, 110, 91, 95, 117, 128, 125, 126, 117, 120, 90, 114, 108, 124, 126, 129, 129, 112, 123, 99, 127, 91, 94, 128, 117, 107, 105, 114, 108, 99, 118, 105, 126, 125, 90, 114, 125, 118, 94, 109, 116, 125, 130, 129, 111, 97, 99, 120, 105, 114, 92, 128, 100, 116, 91, 117, 105, 96, 93, 128, 128, 129, 115, 113, 107, 104, 99, 110, 103, 128, 117, 118, 129, 107, 93, 116, 125, 106, 127, 122, 113, 97, 90, 100, 119, 98, 97, 97, 130, 128]\n",
      "Minimum value: 90\n",
      "Maximum value: 130\n",
      "Sum of values: 11193\n",
      "Average value: 111.93\n"
     ]
    }
   ],
   "source": [
    "import random\n",
    "\n",
    "# Generate a list of 100 integers between 90 and 130\n",
    "int_list = [random.randint(90, 130) for _ in range(100)]\n",
    "\n",
    "# Now, you can perform various operations on this list\n",
    "# For example:\n",
    "\n",
    "# Find the minimum value\n",
    "min_value = min(int_list)\n",
    "\n",
    "# Find the maximum value\n",
    "max_value = max(int_list)\n",
    "\n",
    "# Calculate the sum of all values\n",
    "sum_values = sum(int_list)\n",
    "\n",
    "# Calculate the average\n",
    "average_value = sum_values / len(int_list)\n",
    "\n",
    "# Output the results\n",
    "print(\"List of integers:\", int_list)\n",
    "print(\"Minimum value:\", min_value)\n",
    "print(\"Maximum value:\", max_value)\n",
    "print(\"Sum of values:\", sum_values)\n",
    "print(\"Average value:\", average_value)"
   ]
  },
  {
   "cell_type": "code",
   "execution_count": 103,
   "id": "96b82dc4-f908-4ec2-8495-46b353b37dbd",
   "metadata": {},
   "outputs": [],
   "source": [
    "#   (i) Write a Python function to calculate the mean of a given list of numbers.Create a function to find the median of a list of numbers."
   ]
  },
  {
   "cell_type": "code",
   "execution_count": 104,
   "id": "6e8b174c-39db-4f1b-93f4-7bc86b68c072",
   "metadata": {},
   "outputs": [
    {
     "name": "stdout",
     "output_type": "stream",
     "text": [
      "Mean: 30.0\n"
     ]
    }
   ],
   "source": [
    "def calculate_mean(numbers):\n",
    "    \"\"\"Calculate the mean of a list of numbers.\"\"\"\n",
    "    if len(numbers) == 0:\n",
    "        raise ValueError(\"The list is empty. Mean cannot be calculated.\")\n",
    "    return sum(numbers) / len(numbers)\n",
    "\n",
    "# Example usage:\n",
    "numbers = [10, 20, 30, 40, 50]\n",
    "mean = calculate_mean(numbers)\n",
    "print(f\"Mean: {mean}\")\n"
   ]
  },
  {
   "cell_type": "code",
   "execution_count": 8,
   "id": "f6ea3f30-dba3-43a9-a34f-baca3802be9d",
   "metadata": {},
   "outputs": [],
   "source": [
    "#   (ii) Develop a program to compute the mode of a list of integers."
   ]
  },
  {
   "cell_type": "code",
   "execution_count": 9,
   "id": "a4ff4eb7-669d-4bfa-ba33-46e996b54345",
   "metadata": {},
   "outputs": [
    {
     "name": "stdout",
     "output_type": "stream",
     "text": [
      "Mode: [4]\n"
     ]
    }
   ],
   "source": [
    "from collections import Counter\n",
    "\n",
    "def calculate_mode(numbers):\n",
    "    if len(numbers) == 0:\n",
    "        return None  # Handle the case of an empty list\n",
    "    \n",
    "    count = Counter(numbers)\n",
    "    max_frequency = max(count.values())\n",
    "    \n",
    "    # Find all numbers with the maximum frequency\n",
    "    mode = [num for num, freq in count.items() if freq == max_frequency]\n",
    "    \n",
    "    return mode\n",
    "\n",
    "# Example usage\n",
    "int_list = [4, 5, 6, 7, 7, 8, 9, 4, 4]\n",
    "\n",
    "mode_value = calculate_mode(int_list)\n",
    "\n",
    "print(\"Mode:\", mode_value)"
   ]
  },
  {
   "cell_type": "code",
   "execution_count": 12,
   "id": "0386d289-85fe-4c02-acee-33ab1b106d2e",
   "metadata": {},
   "outputs": [],
   "source": [
    "#  (iii) Implement a function to calculate the weighted mean of a list of values and their corresponding weights."
   ]
  },
  {
   "cell_type": "code",
   "execution_count": 18,
   "id": "2e39dd4a-3270-41e9-acae-6792efb3e4ea",
   "metadata": {},
   "outputs": [
    {
     "name": "stdout",
     "output_type": "stream",
     "text": [
      "Weighted Mean: 90.0\n"
     ]
    }
   ],
   "source": [
    "def calculate_weighted_mean(values, weights):\n",
    "    if len(values) != len(weights) or len(values) == 0:\n",
    "        return None  # Handle the case of mismatched lengths or an empty list\n",
    "    \n",
    "    weighted_sum = sum(v * w for v, w in zip(values, weights))\n",
    "    total_weight = sum(weights)\n",
    "    \n",
    "    if total_weight == 0:\n",
    "        return None  # Handle the case where total weight is zero\n",
    "    \n",
    "    return weighted_sum / total_weight\n",
    "\n",
    "values = [80, 90, 100, 70]\n",
    "weights = [0.2, 0.3, 0.4, 0.1]\n",
    "\n",
    "weighted_mean = calculate_weighted_mean(values, weights)\n",
    "\n",
    "print(\"Weighted Mean:\", weighted_mean)\n"
   ]
  },
  {
   "cell_type": "code",
   "execution_count": 19,
   "id": "51c902b3-e3db-4d55-9778-04de4305ba20",
   "metadata": {},
   "outputs": [],
   "source": [
    "#  (iv) Write a Python function to find the geometric mean of a list of positive numbers."
   ]
  },
  {
   "cell_type": "code",
   "execution_count": 20,
   "id": "7f12b905-0ad0-4ad3-a64a-58db070a44be",
   "metadata": {},
   "outputs": [
    {
     "name": "stdout",
     "output_type": "stream",
     "text": [
      "Geometric Mean: 4.756828460010884\n"
     ]
    }
   ],
   "source": [
    "import math\n",
    "\n",
    "def calculate_geometric_mean(numbers):\n",
    "    if len(numbers) == 0:\n",
    "        return None  # Handle the case of an empty list\n",
    "    if any(n <= 0 for n in numbers):\n",
    "        return None  # Geometric mean is not defined for non-positive numbers\n",
    "\n",
    "    product = math.prod(numbers)  # Multiply all numbers together\n",
    "    n = len(numbers)\n",
    "    \n",
    "    geometric_mean = product ** (1/n)\n",
    "    \n",
    "    return geometric_mean\n",
    "\n",
    "numbers = [4, 1, 8, 16]\n",
    "\n",
    "geometric_mean = calculate_geometric_mean(numbers)\n",
    "\n",
    "print(\"Geometric Mean:\", geometric_mean)"
   ]
  },
  {
   "cell_type": "code",
   "execution_count": 21,
   "id": "5dda5151-9ba5-4e9b-8b6e-bf4b6b674b7c",
   "metadata": {},
   "outputs": [],
   "source": [
    "# (v) Create a program to calculate the harmonic mean of a list of values."
   ]
  },
  {
   "cell_type": "code",
   "execution_count": 22,
   "id": "d605f8a8-8abd-4b97-8f51-85b43b9f7888",
   "metadata": {},
   "outputs": [
    {
     "name": "stdout",
     "output_type": "stream",
     "text": [
      "Harmonic Mean: 15.0\n"
     ]
    }
   ],
   "source": [
    "def calculate_harmonic_mean(numbers):\n",
    "    if len(numbers) == 0:\n",
    "        return None  # Handle the case of an empty list\n",
    "    if any(n == 0 for n in numbers):\n",
    "        return None  # Handle the case where any number is zero, as harmonic mean is undefined\n",
    "    \n",
    "    reciprocal_sum = sum(1 / n for n in numbers)\n",
    "    \n",
    "    harmonic_mean = len(numbers) / reciprocal_sum\n",
    "    \n",
    "    return harmonic_mean\n",
    "\n",
    "numbers = [4, 36, 45, 50, 75]\n",
    "\n",
    "harmonic_mean = calculate_harmonic_mean(numbers)\n",
    "\n",
    "print(\"Harmonic Mean:\", harmonic_mean)\n"
   ]
  },
  {
   "cell_type": "code",
   "execution_count": 23,
   "id": "1179b062-e6a1-4524-b494-dfcb5d7fd357",
   "metadata": {},
   "outputs": [],
   "source": [
    "#   (vi) Build a function to determine the midrange of a list of numbers (average of the minimum and maximum)."
   ]
  },
  {
   "cell_type": "code",
   "execution_count": 24,
   "id": "a42d9fb8-9af2-4740-86f8-9151377d4d40",
   "metadata": {},
   "outputs": [
    {
     "name": "stdout",
     "output_type": "stream",
     "text": [
      "Midrange: 20.0\n"
     ]
    }
   ],
   "source": [
    "def calculate_midrange(numbers):\n",
    "    if len(numbers) == 0:\n",
    "        return None  # Handle the case of an empty list\n",
    "    \n",
    "    min_value = min(numbers)\n",
    "    max_value = max(numbers)\n",
    "    \n",
    "    midrange = (min_value + max_value) / 2\n",
    "    \n",
    "    return midrange\n",
    "\n",
    "numbers = [10, 15, 20, 25, 30]\n",
    "\n",
    "midrange = calculate_midrange(numbers)\n",
    "\n",
    "print(\"Midrange:\", midrange)\n"
   ]
  },
  {
   "cell_type": "code",
   "execution_count": 25,
   "id": "9c7a3c6d-31df-452a-a661-97f8bb86f0e9",
   "metadata": {},
   "outputs": [],
   "source": [
    "#   (vii) Implement a Python program to find the trimmed mean of a list, excluding a certain percentage of outliers."
   ]
  },
  {
   "cell_type": "code",
   "execution_count": 26,
   "id": "fed929bf-55ba-4901-b539-5a1c038b0751",
   "metadata": {},
   "outputs": [
    {
     "name": "stdout",
     "output_type": "stream",
     "text": [
      "Trimmed Mean: 126.75\n"
     ]
    }
   ],
   "source": [
    "import math\n",
    "\n",
    "def calculate_trimmed_mean(numbers, trim_percent):\n",
    "    if len(numbers) == 0 or trim_percent < 0 or trim_percent >= 50:\n",
    "        return None  # Handle the case of an empty list or invalid trim percent\n",
    "\n",
    "    # Sort the list to remove outliers from the ends\n",
    "    sorted_numbers = sorted(numbers)\n",
    "    n = len(sorted_numbers)\n",
    "    \n",
    "    # Calculate the number of elements to trim from each end\n",
    "    trim_count = math.ceil(n * trim_percent / 100)\n",
    "    \n",
    "    # Remove the outliers\n",
    "    trimmed_numbers = sorted_numbers[trim_count:n-trim_count]\n",
    "    \n",
    "    if len(trimmed_numbers) == 0:\n",
    "        return None  # If all elements are trimmed, return None\n",
    "    \n",
    "    # Calculate the mean of the remaining numbers\n",
    "    trimmed_mean = sum(trimmed_numbers) / len(trimmed_numbers)\n",
    "    \n",
    "    return trimmed_mean\n",
    "\n",
    "numbers = [1, 2, 3, 4, 5, 100, 200, 300, 400, 500]\n",
    "trim_percent = 10  # Trim 10% from each end\n",
    "\n",
    "trimmed_mean = calculate_trimmed_mean(numbers, trim_percent)\n",
    "\n",
    "print(\"Trimmed Mean:\", trimmed_mean)\n"
   ]
  },
  {
   "cell_type": "code",
   "execution_count": 27,
   "id": "0108ab1b-3c4a-442a-833f-93affe8e5fb7",
   "metadata": {},
   "outputs": [],
   "source": [
    "#  2. Generate a list o> 500 integers containing values between 200 to 300 and store it in the variable `int_list2`. A>ter generating the list, >ind the >ollowing:"
   ]
  },
  {
   "cell_type": "code",
   "execution_count": 28,
   "id": "b34426e1-a40d-415f-9d37-1add78b95025",
   "metadata": {},
   "outputs": [
    {
     "name": "stdout",
     "output_type": "stream",
     "text": [
      "Mean: 249.032\n",
      "Median: 248.0\n",
      "Mode: [217]\n",
      "Range: 100\n",
      "Standard Deviation: 29.653852633342613\n"
     ]
    }
   ],
   "source": [
    "import random\n",
    "\n",
    "# Generate a list of 500 integers between 200 and 300\n",
    "int_list2 = [random.randint(200, 300) for _ in range(500)]\n",
    "\n",
    "# Find the following statistics:\n",
    "\n",
    "# (i) Mean\n",
    "mean_value = sum(int_list2) / len(int_list2)\n",
    "\n",
    "# (ii) Median\n",
    "sorted_list = sorted(int_list2)\n",
    "n = len(sorted_list)\n",
    "if n % 2 == 0:\n",
    "    median_value = (sorted_list[n//2 - 1] + sorted_list[n//2]) / 2\n",
    "else:\n",
    "    median_value = sorted_list[n//2]\n",
    "\n",
    "# (iii) Mode\n",
    "from collections import Counter\n",
    "count = Counter(int_list2)\n",
    "max_frequency = max(count.values())\n",
    "mode_value = [num for num, freq in count.items() if freq == max_frequency]\n",
    "\n",
    "# (iv) Range (difference between maximum and minimum)\n",
    "range_value = max(int_list2) - min(int_list2)\n",
    "\n",
    "# (v) Standard Deviation\n",
    "mean = mean_value\n",
    "squared_diffs = [(x - mean) ** 2 for x in int_list2]\n",
    "variance = sum(squared_diffs) / len(int_list2)\n",
    "std_deviation = variance ** 0.5\n",
    "\n",
    "# Output the results\n",
    "print(\"Mean:\", mean_value)\n",
    "print(\"Median:\", median_value)\n",
    "print(\"Mode:\", mode_value)\n",
    "print(\"Range:\", range_value)\n",
    "print(\"Standard Deviation:\", std_deviation)\n"
   ]
  },
  {
   "cell_type": "code",
   "execution_count": 29,
   "id": "7edc4a26-a5a7-4c54-ba7b-c00411f7258f",
   "metadata": {},
   "outputs": [],
   "source": [
    "# (i) Compare the given list of visualization for the given data:\n",
    "\n",
    "#1. Frequency & Gaussian distribution\n",
    "#2. Frequency smoothened KDE plot\n",
    "#3. Gaussian distribution & smoothened KDE plot"
   ]
  },
  {
   "cell_type": "code",
   "execution_count": 30,
   "id": "58d9945e-a2f8-4fc1-af8a-70c0080bbfac",
   "metadata": {},
   "outputs": [
    {
     "data": {
      "image/png": "[encoded data removed]",
      "text/plain": [
       "<Figure size 1800x600 with 3 Axes>"
      ]
     },
     "metadata": {},
     "output_type": "display_data"
    }
   ],
   "source": [
    "import numpy as np\n",
    "import matplotlib.pyplot as plt\n",
    "import seaborn as sns\n",
    "from scipy.stats import norm\n",
    "\n",
    "# Generate a list of 500 integers between 200 and 300\n",
    "np.random.seed(0)  # For reproducibility\n",
    "int_list2 = np.random.randint(200, 301, size=500)\n",
    "\n",
    "# Create a figure with subplots\n",
    "fig, axs = plt.subplots(1, 3, figsize=(18, 6))\n",
    "\n",
    "# 1. Frequency Histogram & Gaussian Distribution Curve\n",
    "sns.histplot(int_list2, kde=False, color='skyblue', ax=axs[0], bins=20, stat='density')\n",
    "xmin, xmax = axs[0].get_xlim()\n",
    "x = np.linspace(xmin, xmax, 100)\n",
    "p = norm.pdf(x, np.mean(int_list2), np.std(int_list2))\n",
    "axs[0].plot(x, p, 'k', linewidth=2)\n",
    "axs[0].set_title('Histogram & Gaussian Distribution')\n",
    "\n",
    "# 2. Frequency Smoothed KDE Plot\n",
    "sns.histplot(int_list2, kde=True, color='skyblue', ax=axs[1], bins=20)\n",
    "axs[1].set_title('Smoothed KDE Plot')\n",
    "\n",
    "# 3. Gaussian Distribution & Smoothed KDE Plot\n",
    "sns.histplot(int_list2, kde=True, color='skyblue', ax=axs[2], bins=20)\n",
    "xmin, xmax = axs[2].get_xlim()\n",
    "x = np.linspace(xmin, xmax, 100)\n",
    "p = norm.pdf(x, np.mean(int_list2), np.std(int_list2))\n",
    "axs[2].plot(x, p, 'k', linewidth=2)\n",
    "axs[2].set_title('Gaussian Distribution & Smoothed KDE Plot')\n",
    "\n",
    "# Show the plots\n",
    "plt.tight_layout()\n",
    "plt.show()"
   ]
  },
  {
   "cell_type": "code",
   "execution_count": 31,
   "id": "7d8e3ecc-4e97-425f-a938-0f3237550105",
   "metadata": {},
   "outputs": [],
   "source": [
    "#   (ii) Write a Python function to calculate the range of a given list of numbers."
   ]
  },
  {
   "cell_type": "code",
   "execution_count": 32,
   "id": "69046ecf-5cbe-43f6-933e-0857a6e24714",
   "metadata": {},
   "outputs": [
    {
     "name": "stdout",
     "output_type": "stream",
     "text": [
      "Range: 8\n"
     ]
    }
   ],
   "source": [
    "def calculate_range(numbers):\n",
    "    if len(numbers) == 0:\n",
    "        return None  # Handle the case of an empty list\n",
    "    \n",
    "    min_value = min(numbers)\n",
    "    max_value = max(numbers)\n",
    "    \n",
    "    range_value = max_value - min_value\n",
    "    \n",
    "    return range_value\n",
    "\n",
    "numbers = [5, 1, 9, 3, 7, 2]\n",
    "\n",
    "range_value = calculate_range(numbers)\n",
    "\n",
    "print(\"Range:\", range_value)\n"
   ]
  },
  {
   "cell_type": "code",
   "execution_count": 33,
   "id": "378d73ab-4342-4289-927c-bcab7e19b257",
   "metadata": {},
   "outputs": [],
   "source": [
    "#   (iii) Create a program to find the variance and standard deviation of a list of numbers."
   ]
  },
  {
   "cell_type": "code",
   "execution_count": 34,
   "id": "a288ecbd-06e4-48e2-8a6c-4e731e57d856",
   "metadata": {},
   "outputs": [
    {
     "name": "stdout",
     "output_type": "stream",
     "text": [
      "Variance: 24.0\n",
      "Standard Deviation: 4.898979485566356\n"
     ]
    }
   ],
   "source": [
    "import math\n",
    "\n",
    "def calculate_variance(numbers):\n",
    "    if len(numbers) == 0:\n",
    "        return None  # Handle the case of an empty list\n",
    "    \n",
    "    mean = sum(numbers) / len(numbers)\n",
    "    squared_diffs = [(x - mean) ** 2 for x in numbers]\n",
    "    variance = sum(squared_diffs) / len(numbers)\n",
    "    \n",
    "    return variance\n",
    "\n",
    "def calculate_standard_deviation(numbers):\n",
    "    variance = calculate_variance(numbers)\n",
    "    if variance is None:\n",
    "        return None  # Handle the case where variance is None\n",
    "    return math.sqrt(variance)\n",
    "\n",
    "# Example usage\n",
    "numbers = [10, 12, 23, 23, 16, 23, 21, 16]\n",
    "\n",
    "variance = calculate_variance(numbers)\n",
    "std_deviation = calculate_standard_deviation(numbers)\n",
    "\n",
    "print(\"Variance:\", variance)\n",
    "print(\"Standard Deviation:\", std_deviation)\n"
   ]
  },
  {
   "cell_type": "code",
   "execution_count": 35,
   "id": "d1148e1f-2cf3-4c51-8d81-f05a4b9eb79d",
   "metadata": {},
   "outputs": [],
   "source": [
    "#   (iv) Implement a function to compute the interquartile range (IQR) of a list of values."
   ]
  },
  {
   "cell_type": "code",
   "execution_count": 36,
   "id": "a9be1541-245b-40b2-bafc-747e5f48f013",
   "metadata": {},
   "outputs": [
    {
     "name": "stdout",
     "output_type": "stream",
     "text": [
      "Interquartile Range (IQR): 45.0\n"
     ]
    }
   ],
   "source": [
    "import numpy as np\n",
    "\n",
    "def calculate_iqr(values):\n",
    "    if len(values) == 0:\n",
    "        return None  # Handle the case of an empty list\n",
    "    \n",
    "    # Convert list to a numpy array for convenience\n",
    "    values = np.array(values)\n",
    "    \n",
    "    # Calculate the first quartile (Q1) and third quartile (Q3)\n",
    "    q1 = np.percentile(values, 25)\n",
    "    q3 = np.percentile(values, 75)\n",
    "    \n",
    "    # Calculate the IQR\n",
    "    iqr = q3 - q1\n",
    "    \n",
    "    return iqr\n",
    "\n",
    "# Example usage\n",
    "values = [10, 20, 30, 40, 50, 60, 70, 80, 90, 100]\n",
    "\n",
    "iqr_value = calculate_iqr(values)\n",
    "\n",
    "print(\"Interquartile Range (IQR):\", iqr_value)\n"
   ]
  },
  {
   "cell_type": "code",
   "execution_count": 37,
   "id": "374db2a4-2587-4afc-bd03-0f31d3dfc18d",
   "metadata": {},
   "outputs": [],
   "source": [
    "#   (v) Build a program to calculate the coefficient of variation for a dataset."
   ]
  },
  {
   "cell_type": "code",
   "execution_count": 38,
   "id": "0d93c576-45b7-4c5d-b018-7c317269161c",
   "metadata": {},
   "outputs": [
    {
     "name": "stdout",
     "output_type": "stream",
     "text": [
      "Coefficient of Variation (CV): 27.216552697590867\n"
     ]
    }
   ],
   "source": [
    "import math\n",
    "\n",
    "def calculate_mean(numbers):\n",
    "    if len(numbers) == 0:\n",
    "        return None  # Handle the case of an empty list\n",
    "    return sum(numbers) / len(numbers)\n",
    "\n",
    "def calculate_variance(numbers):\n",
    "    mean = calculate_mean(numbers)\n",
    "    if mean is None:\n",
    "        return None  # Handle the case where mean is None\n",
    "    squared_diffs = [(x - mean) ** 2 for x in numbers]\n",
    "    variance = sum(squared_diffs) / len(numbers)\n",
    "    return variance\n",
    "\n",
    "def calculate_standard_deviation(numbers):\n",
    "    variance = calculate_variance(numbers)\n",
    "    if variance is None:\n",
    "        return None  # Handle the case where variance is None\n",
    "    return math.sqrt(variance)\n",
    "\n",
    "def calculate_coefficient_of_variation(numbers):\n",
    "    mean = calculate_mean(numbers)\n",
    "    if mean is None or mean == 0:\n",
    "        return None  # Handle the case of an empty list or mean is zero\n",
    "    std_deviation = calculate_standard_deviation(numbers)\n",
    "    if std_deviation is None:\n",
    "        return None  # Handle the case where standard deviation is None\n",
    "    cv = (std_deviation / mean) * 100  # Coefficient of Variation as a percentage\n",
    "    return cv\n",
    "\n",
    "# Example usage\n",
    "numbers = [10, 12, 23, 23, 16, 23, 21, 16]\n",
    "\n",
    "cv_value = calculate_coefficient_of_variation(numbers)\n",
    "\n",
    "print(\"Coefficient of Variation (CV):\", cv_value)\n"
   ]
  },
  {
   "cell_type": "code",
   "execution_count": 39,
   "id": "5d43e250-d4e0-4515-b181-c2b6832a37f7",
   "metadata": {},
   "outputs": [],
   "source": [
    "#   (vi) Write a Python function to find the mean absolute deviation (MAD) of a list of numbers."
   ]
  },
  {
   "cell_type": "code",
   "execution_count": 40,
   "id": "3e15925b-d2da-47f4-b04b-9a21e701c8e0",
   "metadata": {},
   "outputs": [
    {
     "name": "stdout",
     "output_type": "stream",
     "text": [
      "Mean Absolute Deviation (MAD): 4.5\n"
     ]
    }
   ],
   "source": [
    "def calculate_mean_absolute_deviation(numbers):\n",
    "    if len(numbers) == 0:\n",
    "        return None  # Handle the case of an empty list\n",
    "    \n",
    "    # Calculate the mean of the numbers\n",
    "    mean = sum(numbers) / len(numbers)\n",
    "    \n",
    "    # Calculate the absolute deviations from the mean\n",
    "    absolute_deviations = [abs(x - mean) for x in numbers]\n",
    "    \n",
    "    # Calculate the mean of these absolute deviations\n",
    "    mad = sum(absolute_deviations) / len(numbers)\n",
    "    \n",
    "    return mad\n",
    "\n",
    "# Example usage\n",
    "numbers = [10, 12, 23, 23, 16, 23, 21, 16]\n",
    "\n",
    "mad_value = calculate_mean_absolute_deviation(numbers)\n",
    "\n",
    "print(\"Mean Absolute Deviation (MAD):\", mad_value)\n"
   ]
  },
  {
   "cell_type": "code",
   "execution_count": 41,
   "id": "c0e5fe8c-be5d-4e40-be3b-0d297e0af1ae",
   "metadata": {},
   "outputs": [],
   "source": [
    "#   (vii) Create a program to calculate the quartile deviation of a list of values"
   ]
  },
  {
   "cell_type": "code",
   "execution_count": 42,
   "id": "01c6bb8e-432b-405e-bd5a-a6b3b49a5038",
   "metadata": {},
   "outputs": [
    {
     "name": "stdout",
     "output_type": "stream",
     "text": [
      "Quartile Deviation: 11.25\n"
     ]
    }
   ],
   "source": [
    "import numpy as np\n",
    "\n",
    "def calculate_quartile_deviation(values):\n",
    "    if len(values) == 0:\n",
    "        return None  # Handle the case of an empty list\n",
    "\n",
    "    # Convert list to a numpy array for convenience\n",
    "    values = np.array(values)\n",
    "    \n",
    "    # Calculate the first quartile (Q1) and third quartile (Q3)\n",
    "    q1 = np.percentile(values, 25)\n",
    "    q3 = np.percentile(values, 75)\n",
    "    \n",
    "    # Calculate the quartile deviation\n",
    "    quartile_deviation = (q3 - q1) / 2\n",
    "    \n",
    "    return quartile_deviation\n",
    "\n",
    "# Example usage\n",
    "values = [10, 15, 20, 25, 30, 35, 40, 45, 50, 55]\n",
    "\n",
    "quartile_deviation_value = calculate_quartile_deviation(values)\n",
    "\n",
    "print(\"Quartile Deviation:\", quartile_deviation_value)\n"
   ]
  },
  {
   "cell_type": "code",
   "execution_count": 43,
   "id": "c5bf33fb-da01-41f4-8bc1-3667af5f70df",
   "metadata": {},
   "outputs": [],
   "source": [
    "#   (viii) Implement a function to find the range-based coefficient of dispersion for a dataset."
   ]
  },
  {
   "cell_type": "code",
   "execution_count": 44,
   "id": "1a3144d5-f1d2-4657-995d-649add0c3172",
   "metadata": {},
   "outputs": [
    {
     "name": "stdout",
     "output_type": "stream",
     "text": [
      "Range-Based Coefficient of Dispersion: 133.33333333333331\n"
     ]
    }
   ],
   "source": [
    "def calculate_range_based_coefficient_of_dispersion(numbers):\n",
    "    if len(numbers) == 0:\n",
    "        return None  # Handle the case of an empty list\n",
    "    \n",
    "    # Calculate the mean of the numbers\n",
    "    mean = sum(numbers) / len(numbers)\n",
    "    \n",
    "    # Calculate the range of the numbers\n",
    "    range_value = max(numbers) - min(numbers)\n",
    "    \n",
    "    if mean == 0:\n",
    "        return None  # Handle the case where the mean is zero to avoid division by zero\n",
    "    \n",
    "    # Calculate the coefficient of dispersion\n",
    "    coefficient_of_dispersion = (range_value / mean) * 100  # As a percentage\n",
    "    \n",
    "    return coefficient_of_dispersion\n",
    "\n",
    "# Example usage\n",
    "numbers = [10, 20, 30, 40, 50]\n",
    "\n",
    "coefficient_of_dispersion_value = calculate_range_based_coefficient_of_dispersion(numbers)\n",
    "\n",
    "print(\"Range-Based Coefficient of Dispersion:\", coefficient_of_dispersion_value)\n"
   ]
  },
  {
   "cell_type": "code",
   "execution_count": 45,
   "id": "e3c79597-284b-4b20-9d14-ce012b328ebd",
   "metadata": {},
   "outputs": [],
   "source": [
    "# 3. Write a Python class representing a discrete random variable with methods to calculate its expected value and variance."
   ]
  },
  {
   "cell_type": "code",
   "execution_count": 46,
   "id": "28f0749f-76e5-486e-9f59-794244c63851",
   "metadata": {},
   "outputs": [
    {
     "name": "stdout",
     "output_type": "stream",
     "text": [
      "Expected Value: 3.2\n",
      "Variance: 1.56\n"
     ]
    }
   ],
   "source": [
    "class DiscreteRandomVariable:\n",
    "    def __init__(self, values, probabilities):\n",
    "        \"\"\"\n",
    "        Initialize the DiscreteRandomVariable with values and their corresponding probabilities.\n",
    "        \n",
    "        :param values: List of possible values of the random variable\n",
    "        :param probabilities: List of probabilities corresponding to each value\n",
    "        \"\"\"\n",
    "        if len(values) != len(probabilities):\n",
    "            raise ValueError(\"Length of values and probabilities must be the same.\")\n",
    "        if not (0.999 <= sum(probabilities) <= 1.001):\n",
    "            raise ValueError(\"Probabilities must sum up to 1.\")\n",
    "        if any(p < 0 for p in probabilities):\n",
    "            raise ValueError(\"Probabilities must be non-negative.\")\n",
    "        \n",
    "        self.values = values\n",
    "        self.probabilities = probabilities\n",
    "\n",
    "    def expected_value(self):\n",
    "        \"\"\"\n",
    "        Calculate the expected value (mean) of the discrete random variable.\n",
    "        \n",
    "        :return: The expected value\n",
    "        \"\"\"\n",
    "        return sum(value * prob for value, prob in zip(self.values, self.probabilities))\n",
    "\n",
    "    def variance(self):\n",
    "        \"\"\"\n",
    "        Calculate the variance of the discrete random variable.\n",
    "        \n",
    "        :return: The variance\n",
    "        \"\"\"\n",
    "        mean = self.expected_value()\n",
    "        return sum(prob * (value - mean) ** 2 for value, prob in zip(self.values, self.probabilities))\n",
    "\n",
    "\n",
    "# Example usage\n",
    "values = [1, 2, 3, 4, 5]\n",
    "probabilities = [0.1, 0.2, 0.3, 0.2, 0.2]\n",
    "\n",
    "rv = DiscreteRandomVariable(values, probabilities)\n",
    "\n",
    "print(\"Expected Value:\", rv.expected_value())\n",
    "print(\"Variance:\", rv.variance())\n"
   ]
  },
  {
   "cell_type": "code",
   "execution_count": 47,
   "id": "409ed2f1-a7fb-483b-867e-88fe834476a5",
   "metadata": {},
   "outputs": [],
   "source": [
    "# 0) Implement a program to simulate the rolling o6 a 6air six-sided die and calculate the expected value and variance o6 the outcomes."
   ]
  },
  {
   "cell_type": "code",
   "execution_count": 48,
   "id": "1b5b2173-1ce4-42ed-bfca-0aa12ee643f9",
   "metadata": {},
   "outputs": [
    {
     "name": "stdout",
     "output_type": "stream",
     "text": [
      "Expected Value: 3.4944\n",
      "Variance: 2.9159686400000004\n"
     ]
    }
   ],
   "source": [
    "import numpy as np\n",
    "\n",
    "def simulate_die_rolls(num_rolls):\n",
    "    \"\"\"\n",
    "    Simulate rolling a fair six-sided die multiple times.\n",
    "    \n",
    "    :param num_rolls: Number of times to roll the die\n",
    "    :return: List of outcomes\n",
    "    \"\"\"\n",
    "    return np.random.randint(1, 7, size=num_rolls)\n",
    "\n",
    "def calculate_expected_value(rolls):\n",
    "    \"\"\"\n",
    "    Calculate the expected value of the die rolls.\n",
    "    \n",
    "    :param rolls: List of outcomes from rolling the die\n",
    "    :return: Expected value\n",
    "    \"\"\"\n",
    "    return np.mean(rolls)\n",
    "\n",
    "def calculate_variance(rolls):\n",
    "    \"\"\"\n",
    "    Calculate the variance of the die rolls.\n",
    "    \n",
    "    :param rolls: List of outcomes from rolling the die\n",
    "    :return: Variance\n",
    "    \"\"\"\n",
    "    return np.var(rolls)\n",
    "\n",
    "# Example usage\n",
    "num_rolls = 10000  # Number of die rolls\n",
    "rolls = simulate_die_rolls(num_rolls)\n",
    "\n",
    "expected_value = calculate_expected_value(rolls)\n",
    "variance = calculate_variance(rolls)\n",
    "\n",
    "print(f\"Expected Value: {expected_value}\")\n",
    "print(f\"Variance: {variance}\")\n"
   ]
  },
  {
   "cell_type": "code",
   "execution_count": 49,
   "id": "a305ba80-8c6a-41e0-b3a2-8aa4d5fbd200",
   "metadata": {},
   "outputs": [],
   "source": [
    "# 5. Create a Python 6unction to generate random samples 6rom a given probability distribution (e.g., binomial, Poisson) and calculate their mean and variance"
   ]
  },
  {
   "cell_type": "code",
   "execution_count": 50,
   "id": "b58c486c-5f89-4fc8-9f94-6cfcb84d250b",
   "metadata": {},
   "outputs": [
    {
     "name": "stdout",
     "output_type": "stream",
     "text": [
      "Mean: 4.937\n",
      "Variance: 2.755031\n"
     ]
    }
   ],
   "source": [
    "import numpy as np\n",
    "\n",
    "def generate_samples_and_calculate_statistics(distribution_type, size, *params):\n",
    "    \"\"\"\n",
    "    Generate random samples from a given probability distribution and calculate their mean and variance.\n",
    "    \n",
    "    :param distribution_type: Type of distribution ('binomial' or 'poisson')\n",
    "    :param size: Number of samples to generate\n",
    "    :param params: Parameters for the distribution\n",
    "    :return: Tuple containing mean and variance of the samples\n",
    "    \"\"\"\n",
    "    if distribution_type == 'binomial':\n",
    "        if len(params) != 2:\n",
    "            raise ValueError(\"Binomial distribution requires two parameters: n and p.\")\n",
    "        n, p = params\n",
    "        samples = np.random.binomial(n, p, size)\n",
    "    \n",
    "    elif distribution_type == 'poisson':\n",
    "        if len(params) != 1:\n",
    "            raise ValueError(\"Poisson distribution requires one parameter: lambda.\")\n",
    "        lambda_ = params[0]\n",
    "        samples = np.random.poisson(lambda_, size)\n",
    "    \n",
    "    else:\n",
    "        raise ValueError(\"Unsupported distribution type. Use 'binomial' or 'poisson'.\")\n",
    "    \n",
    "    # Calculate mean and variance\n",
    "    mean = np.mean(samples)\n",
    "    variance = np.var(samples)\n",
    "    \n",
    "    return mean, variance\n",
    "\n",
    "# Example usage\n",
    "distribution_type = 'binomial'\n",
    "size = 1000\n",
    "params = (10, 0.5)  # Parameters for the binomial distribution (n, p)\n",
    "\n",
    "mean, variance = generate_samples_and_calculate_statistics(distribution_type, size, *params)\n",
    "\n",
    "print(f\"Mean: {mean}\")\n",
    "print(f\"Variance: {variance}\")\n"
   ]
  },
  {
   "cell_type": "code",
   "execution_count": 51,
   "id": "0430dc54-794e-4ef6-b410-f1fa7ec90e2b",
   "metadata": {},
   "outputs": [],
   "source": [
    "# 6. Write a Python script to generate random numbers 6rom a Gaussian (normal) distribution and compute the mean, variance, and standard deviation o6 the samples."
   ]
  },
  {
   "cell_type": "code",
   "execution_count": 53,
   "id": "73c2b649-de61-41d9-adb6-8326e16bffaa",
   "metadata": {},
   "outputs": [
    {
     "name": "stdout",
     "output_type": "stream",
     "text": [
      "Mean of samples: -0.00665738369258845\n",
      "Variance of samples: 1.0362853927948352\n",
      "Standard Deviation of samples: 1.0179810375418765\n"
     ]
    }
   ],
   "source": [
    "import numpy as np\n",
    "\n",
    "def generate_normal_samples(mean, std_dev, size):\n",
    "    \"\"\"\n",
    "    Generate random samples from a Gaussian (normal) distribution and compute their mean, variance, and standard deviation.\n",
    "    \n",
    "    :param mean: Mean of the normal distribution\n",
    "    :param std_dev: Standard deviation of the normal distribution\n",
    "    :param size: Number of samples to generate\n",
    "    :return: Tuple containing mean, variance, and standard deviation of the samples\n",
    "    \"\"\"\n",
    "    # Generate random samples from a normal distribution\n",
    "    samples = np.random.normal(loc=mean, scale=std_dev, size=size)\n",
    "    \n",
    "    # Calculate mean, variance, and standard deviation\n",
    "    sample_mean = np.mean(samples)\n",
    "    sample_variance = np.var(samples)\n",
    "    sample_std_dev = np.std(samples)\n",
    "    \n",
    "    return sample_mean, sample_variance, sample_std_dev\n",
    "\n",
    "# Example usage\n",
    "mean = 0         # Mean of the normal distribution\n",
    "std_dev = 1      # Standard deviation of the normal distribution\n",
    "size = 1000      # Number of samples to generate\n",
    "\n",
    "sample_mean, sample_variance, sample_std_dev = generate_normal_samples(mean, std_dev, size)\n",
    "\n",
    "print(f\"Mean of samples: {sample_mean}\")\n",
    "print(f\"Variance of samples: {sample_variance}\")\n",
    "print(f\"Standard Deviation of samples: {sample_std_dev}\")\n"
   ]
  },
  {
   "cell_type": "code",
   "execution_count": 54,
   "id": "14e3e702-b380-4869-ae2f-a4ca64de96f7",
   "metadata": {},
   "outputs": [],
   "source": [
    "# 7. Use seaborn library to load tips dataset. Find the 6ollowing 6rom the dataset 6or the columns total_bill and tip`:"
   ]
  },
  {
   "cell_type": "code",
   "execution_count": 55,
   "id": "fd768fde-c0fd-41b0-8079-1f731e47c1fa",
   "metadata": {},
   "outputs": [
    {
     "name": "stdout",
     "output_type": "stream",
     "text": [
      "Statistics for total_bill:\n",
      "mean: 19.78594262295082\n",
      "variance: 78.92813148851113\n",
      "std_dev: 8.88415057777113\n",
      "quartile_deviation: 5.389999999999999\n",
      "coefficient_of_variation: 44.901325891170366\n",
      "\n",
      "Statistics for tip:\n",
      "mean: 2.99827868852459\n",
      "variance: 1.9066085124966428\n",
      "std_dev: 1.3807999538298958\n",
      "quartile_deviation: 0.78125\n",
      "coefficient_of_variation: 46.053089031205694\n"
     ]
    }
   ],
   "source": [
    "import seaborn as sns\n",
    "import numpy as np\n",
    "import pandas as pd\n",
    "\n",
    "# Load the tips dataset\n",
    "tips = sns.load_dataset('tips')\n",
    "\n",
    "# Extract the columns of interest\n",
    "total_bill = tips['total_bill']\n",
    "tip = tips['tip']\n",
    "\n",
    "def calculate_statistics(data):\n",
    "    \"\"\"\n",
    "    Calculate mean, variance, standard deviation, quartile deviation, and coefficient of variation.\n",
    "    \n",
    "    :param data: Series or array-like data\n",
    "    :return: Dictionary with calculated statistics\n",
    "    \"\"\"\n",
    "    mean = np.mean(data)\n",
    "    variance = np.var(data, ddof=0)  # ddof=0 for population variance\n",
    "    std_dev = np.std(data, ddof=0)  # ddof=0 for population std deviation\n",
    "    q1 = np.percentile(data, 25)\n",
    "    q3 = np.percentile(data, 75)\n",
    "    quartile_deviation = (q3 - q1) / 2\n",
    "    coefficient_of_variation = (std_dev / mean) * 100 if mean != 0 else None\n",
    "    \n",
    "    return {\n",
    "        'mean': mean,\n",
    "        'variance': variance,\n",
    "        'std_dev': std_dev,\n",
    "        'quartile_deviation': quartile_deviation,\n",
    "        'coefficient_of_variation': coefficient_of_variation\n",
    "    }\n",
    "\n",
    "# Calculate statistics for total_bill\n",
    "total_bill_stats = calculate_statistics(total_bill)\n",
    "\n",
    "# Calculate statistics for tip\n",
    "tip_stats = calculate_statistics(tip)\n",
    "\n",
    "print(\"Statistics for total_bill:\")\n",
    "for key, value in total_bill_stats.items():\n",
    "    print(f\"{key}: {value}\")\n",
    "\n",
    "print(\"\\nStatistics for tip:\")\n",
    "for key, value in tip_stats.items():\n",
    "    print(f\"{key}: {value}\")\n"
   ]
  },
  {
   "cell_type": "code",
   "execution_count": 56,
   "id": "361e9377-4190-4dff-8e2b-3fa35e3bcfd0",
   "metadata": {},
   "outputs": [],
   "source": [
    "#   (i) Write a Python function that calculates their skewness."
   ]
  },
  {
   "cell_type": "code",
   "execution_count": 57,
   "id": "6824f9f6-a7d7-485d-b839-663556a1bf75",
   "metadata": {},
   "outputs": [
    {
     "name": "stdout",
     "output_type": "stream",
     "text": [
      "Skewness: 0.0\n"
     ]
    }
   ],
   "source": [
    "import numpy as np\n",
    "from scipy.stats import skew\n",
    "\n",
    "def calculate_skewness(data):\n",
    "    \"\"\"\n",
    "    Calculate the skewness of a given dataset.\n",
    "    \n",
    "    :param data: List or array-like dataset\n",
    "    :return: Skewness of the dataset\n",
    "    \"\"\"\n",
    "    # Convert to numpy array if data is a list\n",
    "    data = np.array(data)\n",
    "    \n",
    "    # Calculate skewness\n",
    "    skewness = skew(data, bias=False)  # bias=False to get the sample skewness\n",
    "    \n",
    "    return skewness\n",
    "\n",
    "# Example usage\n",
    "data = [1, 2, 3, 4, 5, 6, 7, 8, 9, 10]\n",
    "\n",
    "skewness_value = calculate_skewness(data)\n",
    "\n",
    "print(\"Skewness:\", skewness_value)\n"
   ]
  },
  {
   "cell_type": "code",
   "execution_count": 58,
   "id": "91de084e-4393-4da0-979f-4d321ad1aec9",
   "metadata": {},
   "outputs": [],
   "source": [
    "#   (ii) Create a program that determines whether the columns exhxbit positive skewness, negative skewness, or is approximately symmetric."
   ]
  },
  {
   "cell_type": "code",
   "execution_count": 59,
   "id": "9f8b42db-b5a8-47d8-9b58-5bc8e65fbc36",
   "metadata": {},
   "outputs": [
    {
     "name": "stdout",
     "output_type": "stream",
     "text": [
      "Column 'total_bill' exhibits positive skewness.\n",
      "Column 'tip' exhibits positive skewness.\n",
      "Column 'size' exhibits positive skewness.\n"
     ]
    }
   ],
   "source": [
    "import numpy as np\n",
    "import pandas as pd\n",
    "import seaborn as sns\n",
    "from scipy.stats import skew\n",
    "\n",
    "def calculate_skewness(data):\n",
    "    \"\"\"\n",
    "    Calculate the skewness of a given dataset.\n",
    "    \n",
    "    :param data: List or array-like dataset\n",
    "    :return: Skewness of the dataset\n",
    "    \"\"\"\n",
    "    data = np.array(data)\n",
    "    return skew(data, bias=False)\n",
    "\n",
    "def determine_skewness_type(skewness):\n",
    "    \"\"\"\n",
    "    Determine the type of skewness based on the skewness value.\n",
    "    \n",
    "    :param skewness: Skewness value\n",
    "    :return: Type of skewness ('positive', 'negative', 'symmetric')\n",
    "    \"\"\"\n",
    "    if skewness > 0.5:\n",
    "        return 'positive'\n",
    "    elif skewness < -0.5:\n",
    "        return 'negative'\n",
    "    else:\n",
    "        return 'symmetric'\n",
    "\n",
    "def analyze_columns_skewness(df):\n",
    "    \"\"\"\n",
    "    Analyze the skewness of each numeric column in the DataFrame.\n",
    "    \n",
    "    :param df: DataFrame with columns to analyze\n",
    "    :return: Dictionary with column names as keys and skewness type as values\n",
    "    \"\"\"\n",
    "    skewness_summary = {}\n",
    "    \n",
    "    for column in df.select_dtypes(include=[np.number]).columns:\n",
    "        skewness_value = calculate_skewness(df[column].dropna())\n",
    "        skewness_type = determine_skewness_type(skewness_value)\n",
    "        skewness_summary[column] = skewness_type\n",
    "    \n",
    "    return skewness_summary\n",
    "\n",
    "# Load the dataset\n",
    "tips = sns.load_dataset('tips')\n",
    "\n",
    "# Analyze skewness for the 'total_bill' and 'tip' columns\n",
    "skewness_results = analyze_columns_skewness(tips)\n",
    "\n",
    "# Print results\n",
    "for column, skew_type in skewness_results.items():\n",
    "    print(f\"Column '{column}' exhibits {skew_type} skewness.\")\n"
   ]
  },
  {
   "cell_type": "code",
   "execution_count": 60,
   "id": "0d6c2ec7-8598-4da9-958a-2649ecb7e6d2",
   "metadata": {},
   "outputs": [],
   "source": [
    "# (iii) Write a function that calculates the covariance between two columns"
   ]
  },
  {
   "cell_type": "code",
   "execution_count": 62,
   "id": "56fe4235-aeeb-4a53-91ee-a581e6969a1e",
   "metadata": {},
   "outputs": [
    {
     "name": "stdout",
     "output_type": "stream",
     "text": [
      "Covariance between 'x' and 'y': 4.0\n"
     ]
    }
   ],
   "source": [
    "import numpy as np\n",
    "import pandas as pd\n",
    "\n",
    "def calculate_covariance(column1, column2):\n",
    "    \"\"\"\n",
    "    Calculate the covariance between two columns.\n",
    "    \n",
    "    :param column1: First column (array-like or pandas Series)\n",
    "    :param column2: Second column (array-like or pandas Series)\n",
    "    :return: Covariance between the two columns\n",
    "    \"\"\"\n",
    "    # Convert to numpy arrays if they are pandas Series\n",
    "    column1 = np.array(column1)\n",
    "    column2 = np.array(column2)\n",
    "    \n",
    "    # Ensure columns have the same length\n",
    "    if len(column1) != len(column2):\n",
    "        raise ValueError(\"The columns must have the same length.\")\n",
    "    \n",
    "    # Calculate means\n",
    "    mean1 = np.mean(column1)\n",
    "    mean2 = np.mean(column2)\n",
    "    \n",
    "    # Calculate covariance\n",
    "    covariance = np.mean((column1 - mean1) * (column2 - mean2))\n",
    "    \n",
    "    return covariance\n",
    "\n",
    "# Example usage with a DataFrame\n",
    "data = {\n",
    "    'x': [1, 2, 3, 4, 5],\n",
    "    'y': [2, 4, 6, 8, 10]\n",
    "}\n",
    "df = pd.DataFrame(data)\n",
    "\n",
    "# Calculate covariance between columns 'x' and 'y'\n",
    "covariance_value = calculate_covariance(df['x'], df['y'])\n",
    "\n",
    "print(f\"Covariance between 'x' and 'y': {covariance_value}\")\n"
   ]
  },
  {
   "cell_type": "code",
   "execution_count": 63,
   "id": "d0d8204e-c62a-4cc7-909c-788d1dea4b17",
   "metadata": {},
   "outputs": [],
   "source": [
    "#   (iv) Implement a Python program that calculates the Pearson correlation coefficient between two columns."
   ]
  },
  {
   "cell_type": "code",
   "execution_count": 64,
   "id": "640e368c-238d-4b1a-80e2-1da31a3541cf",
   "metadata": {},
   "outputs": [
    {
     "name": "stdout",
     "output_type": "stream",
     "text": [
      "Pearson correlation coefficient (manual calculation) between 'x' and 'y': 0.9999999999999998\n"
     ]
    }
   ],
   "source": [
    "import numpy as np\n",
    "\n",
    "def calculate_pearson_correlation_manual(column1, column2):\n",
    "    \"\"\"\n",
    "    Calculate the Pearson correlation coefficient manually.\n",
    "    \n",
    "    :param column1: First column (array-like or pandas Series)\n",
    "    :param column2: Second column (array-like or pandas Series)\n",
    "    :return: Pearson correlation coefficient\n",
    "    \"\"\"\n",
    "    column1 = np.array(column1)\n",
    "    column2 = np.array(column2)\n",
    "    \n",
    "    if len(column1) != len(column2):\n",
    "        raise ValueError(\"The columns must have the same length.\")\n",
    "    \n",
    "    # Calculate means\n",
    "    mean1 = np.mean(column1)\n",
    "    mean2 = np.mean(column2)\n",
    "    \n",
    "    # Calculate covariance\n",
    "    covariance = np.mean((column1 - mean1) * (column2 - mean2))\n",
    "    \n",
    "    # Calculate standard deviations\n",
    "    std_dev1 = np.std(column1, ddof=0)\n",
    "    std_dev2 = np.std(column2, ddof=0)\n",
    "    \n",
    "    # Calculate Pearson correlation coefficient\n",
    "    correlation = covariance / (std_dev1 * std_dev2)\n",
    "    \n",
    "    return correlation\n",
    "\n",
    "# Example usage with a DataFrame\n",
    "data = {\n",
    "    'x': [1, 2, 3, 4, 5],\n",
    "    'y': [2, 4, 6, 8, 10]\n",
    "}\n",
    "df = pd.DataFrame(data)\n",
    "\n",
    "# Calculate Pearson correlation coefficient manually between columns 'x' and 'y'\n",
    "pearson_corr_manual = calculate_pearson_correlation_manual(df['x'], df['y'])\n",
    "\n",
    "print(f\"Pearson correlation coefficient (manual calculation) between 'x' and 'y': {pearson_corr_manual}\")\n"
   ]
  },
  {
   "cell_type": "code",
   "execution_count": 65,
   "id": "d8433bb4-9d04-40d6-bafe-f9f0b65b3cee",
   "metadata": {},
   "outputs": [],
   "source": [
    "#   (v) Write a script to visualize the correlation between two specific columns in a Pandas DataFrame using scatter plots."
   ]
  },
  {
   "cell_type": "code",
   "execution_count": 66,
   "id": "eb6c4e52-b305-48a0-b67a-828deb736a98",
   "metadata": {},
   "outputs": [
    {
     "data": {
      "image/png": "[encoded data removed]",
      "text/plain": [
       "<Figure size 1000x600 with 1 Axes>"
      ]
     },
     "metadata": {},
     "output_type": "display_data"
    }
   ],
   "source": [
    "import pandas as pd\n",
    "import seaborn as sns\n",
    "import matplotlib.pyplot as plt\n",
    "\n",
    "def plot_correlation_scatter(df, col1, col2):\n",
    "    \"\"\"\n",
    "    Create a scatter plot to visualize the correlation between two columns in a DataFrame.\n",
    "    \n",
    "    :param df: Pandas DataFrame containing the data\n",
    "    :param col1: Name of the first column (string)\n",
    "    :param col2: Name of the second column (string)\n",
    "    \"\"\"\n",
    "    # Check if columns exist in the DataFrame\n",
    "    if col1 not in df.columns or col2 not in df.columns:\n",
    "        raise ValueError(f\"Columns '{col1}' and/or '{col2}' not found in DataFrame.\")\n",
    "    \n",
    "    # Create scatter plot\n",
    "    plt.figure(figsize=(10, 6))\n",
    "    sns.scatterplot(data=df, x=col1, y=col2)\n",
    "    \n",
    "    # Add title and labels\n",
    "    plt.title(f'Scatter Plot of {col1} vs {col2}')\n",
    "    plt.xlabel(col1)\n",
    "    plt.ylabel(col2)\n",
    "    \n",
    "    # Show plot\n",
    "    plt.show()\n",
    "\n",
    "# Example usage with a DataFrame\n",
    "data = {\n",
    "    'total_bill': [16.99, 10.34, 21.01, 23.68, 24.59],\n",
    "    'tip': [1.01, 1.66, 3.50, 3.31, 3.10],\n",
    "    'size': [2, 3, 3, 2, 4]\n",
    "}\n",
    "df = pd.DataFrame(data)\n",
    "\n",
    "# Plot the correlation between 'total_bill' and 'tip'\n",
    "plot_correlation_scatter(df, 'total_bill', 'tip')\n"
   ]
  },
  {
   "cell_type": "code",
   "execution_count": 67,
   "id": "ed1512c0-2ecc-45fa-b18e-d1938831aa53",
   "metadata": {},
   "outputs": [],
   "source": [
    "# ) Write a Python 6unction to calculate the probability density 6unction (PDF) o6 a continuous random variable 6or a given normal distribution.\n"
   ]
  },
  {
   "cell_type": "code",
   "execution_count": 68,
   "id": "612a667f-c43c-4cbb-b9d2-478d26d2ea64",
   "metadata": {},
   "outputs": [
    {
     "name": "stdout",
     "output_type": "stream",
     "text": [
      "PDF value at x=1 for normal distribution with mean=0 and std_dev=1: 0.24197072451914337\n"
     ]
    }
   ],
   "source": [
    "import numpy as np\n",
    "from scipy.stats import norm\n",
    "\n",
    "def calculate_pdf(x, mean, std_dev):\n",
    "    \"\"\"\n",
    "    Calculate the probability density function (PDF) of a normal distribution.\n",
    "    \n",
    "    :param x: Point at which to evaluate the PDF\n",
    "    :param mean: Mean of the normal distribution\n",
    "    :param std_dev: Standard deviation of the normal distribution\n",
    "    :return: PDF value at x\n",
    "    \"\"\"\n",
    "    # Using scipy.stats.norm to calculate PDF\n",
    "    pdf_value = norm.pdf(x, loc=mean, scale=std_dev)\n",
    "    \n",
    "    return pdf_value\n",
    "\n",
    "# Example usage\n",
    "mean = 0\n",
    "std_dev = 1\n",
    "x = 1\n",
    "\n",
    "pdf_value = calculate_pdf(x, mean, std_dev)\n",
    "\n",
    "print(f\"PDF value at x={x} for normal distribution with mean={mean} and std_dev={std_dev}: {pdf_value}\")\n"
   ]
  },
  {
   "cell_type": "code",
   "execution_count": 69,
   "id": "922aaaf8-9c61-4602-bdee-7fdf11c958dc",
   "metadata": {},
   "outputs": [],
   "source": [
    "# ¸) Create a program to calculate the cumulative distribution 6unction (CDF) o6 exponential distribution."
   ]
  },
  {
   "cell_type": "code",
   "execution_count": 70,
   "id": "2ec90e2c-2257-44a2-acec-c44e08651645",
   "metadata": {},
   "outputs": [
    {
     "name": "stdout",
     "output_type": "stream",
     "text": [
      "CDF value at x=2 for exponential distribution with rate=1: 0.8646647167633873\n"
     ]
    }
   ],
   "source": [
    "import numpy as np\n",
    "from scipy.stats import expon\n",
    "\n",
    "def calculate_cdf(x, rate):\n",
    "    \"\"\"\n",
    "    Calculate the cumulative distribution function (CDF) of an exponential distribution.\n",
    "    \n",
    "    :param x: Point at which to evaluate the CDF\n",
    "    :param rate: Rate parameter (lambda) of the exponential distribution\n",
    "    :return: CDF value at x\n",
    "    \"\"\"\n",
    "    # Using scipy.stats.expon to calculate CDF\n",
    "    cdf_value = expon.cdf(x, scale=1/rate)\n",
    "    \n",
    "    return cdf_value\n",
    "\n",
    "# Example usage\n",
    "rate = 1  # Lambda (rate parameter)\n",
    "x = 2\n",
    "\n",
    "cdf_value = calculate_cdf(x, rate)\n",
    "\n",
    "print(f\"CDF value at x={x} for exponential distribution with rate={rate}: {cdf_value}\")\n"
   ]
  },
  {
   "cell_type": "code",
   "execution_count": 71,
   "id": "dbefe7c1-cd3e-466d-90fd-7a1e4a1c0453",
   "metadata": {},
   "outputs": [],
   "source": [
    "# ÕÐ) Write a Python 6unction to calculate the probability mass 6unction (PMF) o6 Poisson distribution."
   ]
  },
  {
   "cell_type": "code",
   "execution_count": 72,
   "id": "8e17caee-18c0-4825-baf0-383ce0dcf90f",
   "metadata": {},
   "outputs": [
    {
     "name": "stdout",
     "output_type": "stream",
     "text": [
      "PMF value at k=2 for Poisson distribution with mean=3: 0.22404180765538775\n"
     ]
    }
   ],
   "source": [
    "import numpy as np\n",
    "from scipy.stats import poisson\n",
    "\n",
    "def calculate_pmf(k, mean):\n",
    "    \"\"\"\n",
    "    Calculate the probability mass function (PMF) of a Poisson distribution.\n",
    "    \n",
    "    :param k: Number of occurrences (integer)\n",
    "    :param mean: Mean (lambda) of the Poisson distribution\n",
    "    :return: PMF value at k\n",
    "    \"\"\"\n",
    "    # Using scipy.stats.poisson to calculate PMF\n",
    "    pmf_value = poisson.pmf(k, mu=mean)\n",
    "    \n",
    "    return pmf_value\n",
    "\n",
    "# Example usage\n",
    "mean = 3  # Lambda (mean rate of occurrences)\n",
    "k = 2\n",
    "\n",
    "pmf_value = calculate_pmf(k, mean)\n",
    "\n",
    "print(f\"PMF value at k={k} for Poisson distribution with mean={mean}: {pmf_value}\")\n"
   ]
  },
  {
   "cell_type": "code",
   "execution_count": 73,
   "id": "422eb3e4-cd38-4882-b346-a620b089af91",
   "metadata": {},
   "outputs": [],
   "source": [
    "# 11. A company wants to test iN a new website layout leads to a higher conversion rate (percentage oN visitors who make a purchase). They collect data Nrom the old and new layouts to compare."
   ]
  },
  {
   "cell_type": "code",
   "execution_count": 74,
   "id": "f67d05ef-4af6-42c4-b078-8d438be57590",
   "metadata": {},
   "outputs": [
    {
     "name": "stdout",
     "output_type": "stream",
     "text": [
      "Z-score: -1.8831\n",
      "P-value: 0.0597\n",
      "The difference in conversion rates is not statistically significant.\n"
     ]
    }
   ],
   "source": [
    "import numpy as np\n",
    "from scipy.stats import norm\n",
    "\n",
    "# Define the data\n",
    "old_layout_purchases = 50\n",
    "old_layout_visitors = 1000\n",
    "new_layout_purchases = 70\n",
    "new_layout_visitors = 1000\n",
    "\n",
    "# Conversion rates\n",
    "p1 = old_layout_purchases / old_layout_visitors\n",
    "p2 = new_layout_purchases / new_layout_visitors\n",
    "\n",
    "# Pooled proportion\n",
    "p = (old_layout_purchases + new_layout_purchases) / (old_layout_visitors + new_layout_visitors)\n",
    "\n",
    "# Standard error\n",
    "se = np.sqrt(p * (1 - p) * (1 / old_layout_visitors + 1 / new_layout_visitors))\n",
    "\n",
    "# Z-score\n",
    "z = (p1 - p2) / se\n",
    "\n",
    "# P-value (two-tailed test)\n",
    "p_value = 2 * (1 - norm.cdf(np.abs(z)))\n",
    "\n",
    "# Output results\n",
    "print(f\"Z-score: {z:.4f}\")\n",
    "print(f\"P-value: {p_value:.4f}\")\n",
    "\n",
    "# Determine significance\n",
    "alpha = 0.05\n",
    "if p_value < alpha:\n",
    "    print(\"The difference in conversion rates is statistically significant.\")\n",
    "else:\n",
    "    print(\"The difference in conversion rates is not statistically significant.\")\n"
   ]
  },
  {
   "cell_type": "code",
   "execution_count": 76,
   "id": "bb7aef5e-b00d-4321-be92-7560286f81eb",
   "metadata": {},
   "outputs": [],
   "source": [
    "# 12. A tutoring service claims that its program improves students' exam scores. A sample oN students who participated in the program was taken, and their scores beNore and aNter the program were recorded."
   ]
  },
  {
   "cell_type": "code",
   "execution_count": 78,
   "id": "8ccd9ae2-88ae-40cc-a712-59f8791acfe3",
   "metadata": {},
   "outputs": [
    {
     "name": "stdout",
     "output_type": "stream",
     "text": [
      "Z-score: 4.8416\n",
      "P-value: 0.0000\n",
      "The improvement in scores is statistically significant.\n"
     ]
    }
   ],
   "source": [
    "import numpy as np\n",
    "from scipy.stats import norm\n",
    "\n",
    "# Sample data\n",
    "before_program = np.array([75, 80, 85, 70, 90, 78, 92, 88, 82, 87])\n",
    "after_program = np.array([80, 85, 90, 80, 92, 80, 95, 90, 85, 88])\n",
    "\n",
    "# Calculate the differences\n",
    "differences = after_program - before_program\n",
    "\n",
    "# Mean and standard deviation of the differences\n",
    "mean_diff = np.mean(differences)\n",
    "std_diff = np.std(differences, ddof=0)  # Population standard deviation\n",
    "\n",
    "# Number of observations\n",
    "n = len(differences)\n",
    "\n",
    "# Standard error of the mean difference\n",
    "se_diff = std_diff / np.sqrt(n)\n",
    "\n",
    "# Z-score\n",
    "z = mean_diff / se_diff\n",
    "\n",
    "# P-value (two-tailed test)\n",
    "p_value = 2 * (1 - norm.cdf(np.abs(z)))\n",
    "\n",
    "# Output results\n",
    "print(f\"Z-score: {z:.4f}\")\n",
    "print(f\"P-value: {p_value:.4f}\")\n",
    "\n",
    "# Determine significance\n",
    "alpha = 0.05\n",
    "if p_value < alpha:\n",
    "    print(\"The improvement in scores is statistically significant.\")\n",
    "else:\n",
    "    print(\"The improvement in scores is not statistically significant.\")\n"
   ]
  },
  {
   "cell_type": "code",
   "execution_count": 79,
   "id": "623518e0-2283-44fe-abb5-06597bbff414",
   "metadata": {},
   "outputs": [],
   "source": [
    "# 13. A pharmaceutical company wants to determine iN a new drug is eNNective in reducing blood pressure. They conduct a study and record blood pressure measurements beNore and aNter administering the drug."
   ]
  },
  {
   "cell_type": "code",
   "execution_count": 80,
   "id": "06817f48-f34f-4787-b1be-a5c0c4e9e358",
   "metadata": {},
   "outputs": [
    {
     "name": "stdout",
     "output_type": "stream",
     "text": [
      "Z-score: -10.5935\n",
      "P-value: 0.0000\n",
      "The drug is effective in reducing blood pressure.\n"
     ]
    }
   ],
   "source": [
    "import numpy as np\n",
    "from scipy.stats import norm\n",
    "\n",
    "# Sample data\n",
    "before_drug = np.array([145, 150, 140, 135, 155, 160, 152, 148, 130, 138])\n",
    "after_drug = np.array([130, 140, 132, 128, 145, 148, 138, 136, 125, 130])\n",
    "\n",
    "# Calculate the differences\n",
    "differences = after_drug - before_drug\n",
    "\n",
    "# Mean and standard deviation of the differences\n",
    "mean_diff = np.mean(differences)\n",
    "std_diff = np.std(differences, ddof=0)  # Population standard deviation\n",
    "\n",
    "# Number of observations\n",
    "n = len(differences)\n",
    "\n",
    "# Standard error of the mean difference\n",
    "se_diff = std_diff / np.sqrt(n)\n",
    "\n",
    "# Z-score\n",
    "z = mean_diff / se_diff\n",
    "\n",
    "# P-value (two-tailed test)\n",
    "p_value = 2 * (1 - norm.cdf(np.abs(z)))\n",
    "\n",
    "# Output results\n",
    "print(f\"Z-score: {z:.4f}\")\n",
    "print(f\"P-value: {p_value:.4f}\")\n",
    "\n",
    "# Determine significance\n",
    "alpha = 0.05\n",
    "if p_value < alpha:\n",
    "    print(\"The drug is effective in reducing blood pressure.\")\n",
    "else:\n",
    "    print(\"The drug is not effective in reducing blood pressure.\")\n"
   ]
  },
  {
   "cell_type": "code",
   "execution_count": 81,
   "id": "def16df4-3ced-45ed-93ab-ad3552754181",
   "metadata": {},
   "outputs": [],
   "source": [
    "# 14. A custo:er service depart:ent clai:s that their average response ti:e is less than 5 :inutesV A sa:ple of recent custo:er interactions was taken, and the response ti:es were recorded."
   ]
  },
  {
   "cell_type": "code",
   "execution_count": 82,
   "id": "fb88e768-be10-4d8f-9426-11f9739cab77",
   "metadata": {},
   "outputs": [
    {
     "name": "stdout",
     "output_type": "stream",
     "text": [
      "Z-score: -3.3567\n",
      "P-value: 0.0004\n",
      "The average response time is significantly less than 5 minutes.\n"
     ]
    }
   ],
   "source": [
    "import numpy as np\n",
    "from scipy.stats import norm\n",
    "\n",
    "# Sample data\n",
    "response_times = np.array([4.3, 3.8, 5.1, 4.9, 4.7, 4.2, 5.2, 4.5, 4.6, 4.4])\n",
    "\n",
    "# Parameters\n",
    "population_mean = 5  # Hypothesized population mean\n",
    "\n",
    "# Calculate sample mean and standard deviation\n",
    "sample_mean = np.mean(response_times)\n",
    "sample_std = np.std(response_times, ddof=0)  # Population standard deviation for this example\n",
    "\n",
    "# Sample size\n",
    "n = len(response_times)\n",
    "\n",
    "# Standard error of the mean\n",
    "se = sample_std / np.sqrt(n)\n",
    "\n",
    "# Z-score\n",
    "z = (sample_mean - population_mean) / se\n",
    "\n",
    "# P-value (one-tailed test)\n",
    "p_value = norm.cdf(z)\n",
    "\n",
    "# Output results\n",
    "print(f\"Z-score: {z:.4f}\")\n",
    "print(f\"P-value: {p_value:.4f}\")\n",
    "\n",
    "# Determine significance\n",
    "alpha = 0.05\n",
    "if p_value < alpha:\n",
    "    print(\"The average response time is significantly less than 5 minutes.\")\n",
    "else:\n",
    "    print(\"There is not enough evidence to say that the average response time is less than 5 minutes.\")\n"
   ]
  },
  {
   "cell_type": "code",
   "execution_count": 83,
   "id": "a69f5a2f-5a09-4f0a-9087-caded540e78b",
   "metadata": {},
   "outputs": [],
   "source": [
    "# 15. A co:pany is testing two different website layouts to see which one leads to higher click-through ratesV Write a Python function to perfor: an A/B test analysis, including calculating the t-statistic, degrees of freedo:, and p-value."
   ]
  },
  {
   "cell_type": "code",
   "execution_count": 84,
   "id": "789b14f6-bdf6-471f-bdcf-bd1c7dceb1e5",
   "metadata": {},
   "outputs": [
    {
     "name": "stdout",
     "output_type": "stream",
     "text": [
      "T-statistic: -7.2981\n",
      "Degrees of freedom: 0.1800\n",
      "P-value: 0.5351\n",
      "There is no statistically significant difference in click-through rates.\n"
     ]
    }
   ],
   "source": [
    "import numpy as np\n",
    "from scipy.stats import t\n",
    "\n",
    "def ab_test(layout_a_clicks, layout_b_clicks):\n",
    "    # Convert lists to numpy arrays for calculations\n",
    "    layout_a_clicks = np.array(layout_a_clicks)\n",
    "    layout_b_clicks = np.array(layout_b_clicks)\n",
    "    \n",
    "    # Sample sizes\n",
    "    n_a = len(layout_a_clicks)\n",
    "    n_b = len(layout_b_clicks)\n",
    "    \n",
    "    # Means and variances\n",
    "    mean_a = np.mean(layout_a_clicks)\n",
    "    mean_b = np.mean(layout_b_clicks)\n",
    "    var_a = np.var(layout_a_clicks, ddof=1)\n",
    "    var_b = np.var(layout_b_clicks, ddof=1)\n",
    "    \n",
    "    # Pooled variance\n",
    "    pooled_var = ((n_a - 1) * var_a + (n_b - 1) * var_b) / (n_a + n_b - 2)\n",
    "    \n",
    "    # T-statistic\n",
    "    t_statistic = (mean_a - mean_b) / np.sqrt(pooled_var * (1/n_a + 1/n_b))\n",
    "    \n",
    "    # Degrees of freedom\n",
    "    df = ((pooled_var * (1/n_a + 1/n_b)) ** 2) / ((pooled_var ** 2 / (n_a - 1)) + (pooled_var ** 2 / (n_b - 1)))\n",
    "    \n",
    "    # P-value (two-tailed test)\n",
    "    p_value = 2 * (1 - t.cdf(np.abs(t_statistic), df=df))\n",
    "    \n",
    "    return t_statistic, df, p_value\n",
    "\n",
    "# Data\n",
    "layout_a_clicks = [28, 32, 33, 29, 31, 34, 30, 35, 36, 37]\n",
    "layout_b_clicks = [40, 41, 38, 42, 39, 44, 43, 41, 45, 47]\n",
    "\n",
    "# Perform A/B test\n",
    "t_statistic, df, p_value = ab_test(layout_a_clicks, layout_b_clicks)\n",
    "\n",
    "# Output results\n",
    "print(f\"T-statistic: {t_statistic:.4f}\")\n",
    "print(f\"Degrees of freedom: {df:.4f}\")\n",
    "print(f\"P-value: {p_value:.4f}\")\n",
    "\n",
    "# Determine significance\n",
    "alpha = 0.05\n",
    "if p_value < alpha:\n",
    "    print(\"The difference in click-through rates is statistically significant.\")\n",
    "else:\n",
    "    print(\"There is no statistically significant difference in click-through rates.\")\n"
   ]
  },
  {
   "cell_type": "code",
   "execution_count": 85,
   "id": "3c08c9de-3849-471c-baf3-40845bf425fb",
   "metadata": {},
   "outputs": [],
   "source": [
    "# 16. A phar:aceutical co:pany wants to deter:ine if a new drug is :ore effective than an existing drug in reducing cholesterol levelsV Create a progra: to analyze the clinical trial data and calculate the tstatistic and p-value for the treat:ent effect."
   ]
  },
  {
   "cell_type": "code",
   "execution_count": 86,
   "id": "298bd448-6924-46a3-a48a-9c1022f95142",
   "metadata": {},
   "outputs": [
    {
     "name": "stdout",
     "output_type": "stream",
     "text": [
      "T-statistic: 4.1405\n",
      "Degrees of freedom: 0.1800\n",
      "P-value: 0.2962\n",
      "There is no statistically significant difference in cholesterol reduction between the new and existing drugs.\n"
     ]
    }
   ],
   "source": [
    "import numpy as np\n",
    "from scipy.stats import t\n",
    "\n",
    "def t_test_drugs(existing_drug_levels, new_drug_levels):\n",
    "    # Convert lists to numpy arrays for calculations\n",
    "    existing_drug_levels = np.array(existing_drug_levels)\n",
    "    new_drug_levels = np.array(new_drug_levels)\n",
    "    \n",
    "    # Sample sizes\n",
    "    n1 = len(existing_drug_levels)\n",
    "    n2 = len(new_drug_levels)\n",
    "    \n",
    "    # Means and variances\n",
    "    mean1 = np.mean(existing_drug_levels)\n",
    "    mean2 = np.mean(new_drug_levels)\n",
    "    var1 = np.var(existing_drug_levels, ddof=1)\n",
    "    var2 = np.var(new_drug_levels, ddof=1)\n",
    "    \n",
    "    # Pooled variance\n",
    "    pooled_var = ((n1 - 1) * var1 + (n2 - 1) * var2) / (n1 + n2 - 2)\n",
    "    \n",
    "    # T-statistic\n",
    "    t_statistic = (mean1 - mean2) / np.sqrt(pooled_var * (1/n1 + 1/n2))\n",
    "    \n",
    "    # Degrees of freedom\n",
    "    df = ((pooled_var * (1/n1 + 1/n2)) ** 2) / ((pooled_var ** 2 / (n1 - 1)) + (pooled_var ** 2 / (n2 - 1)))\n",
    "    \n",
    "    # P-value (one-tailed test)\n",
    "    p_value = 1 - t.cdf(t_statistic, df=df)\n",
    "    \n",
    "    return t_statistic, df, p_value\n",
    "\n",
    "# Data\n",
    "existing_drug_levels = [180, 182, 175, 185, 178, 176, 172, 184, 179, 183]\n",
    "new_drug_levels = [170, 172, 165, 168, 175, 173, 170, 178, 172, 176]\n",
    "\n",
    "# Perform the t-test\n",
    "t_statistic, df, p_value = t_test_drugs(existing_drug_levels, new_drug_levels)\n",
    "\n",
    "# Output results\n",
    "print(f\"T-statistic: {t_statistic:.4f}\")\n",
    "print(f\"Degrees of freedom: {df:.4f}\")\n",
    "print(f\"P-value: {p_value:.4f}\")\n",
    "\n",
    "# Determine significance\n",
    "alpha = 0.05\n",
    "if p_value < alpha:\n",
    "    print(\"The new drug is significantly more effective in reducing cholesterol levels.\")\n",
    "else:\n",
    "    print(\"There is no statistically significant difference in cholesterol reduction between the new and existing drugs.\")\n"
   ]
  },
  {
   "cell_type": "code",
   "execution_count": 87,
   "id": "084ef956-fd5a-4655-a5ad-ec1431ecd209",
   "metadata": {},
   "outputs": [],
   "source": [
    "# 17. A school district introduces an educational intervention progra: to i:prove :ath scoresV Write a Python function to analyze pre- and post-intervention test scores, calculating the t-statistic and p-value to deter:ine if the intervention had a significant i:pact."
   ]
  },
  {
   "cell_type": "code",
   "execution_count": 88,
   "id": "51729d2b-128a-40f2-8441-8d8fc94ed578",
   "metadata": {},
   "outputs": [
    {
     "name": "stdout",
     "output_type": "stream",
     "text": [
      "T-statistic: 4.4284\n",
      "Degrees of freedom: 9\n",
      "P-value: 0.0017\n",
      "The intervention had a significant impact on improving math scores.\n"
     ]
    }
   ],
   "source": [
    "import numpy as np\n",
    "from scipy.stats import t\n",
    "\n",
    "def paired_t_test(pre_intervention_scores, post_intervention_scores):\n",
    "    # Convert lists to numpy arrays for calculations\n",
    "    pre_intervention_scores = np.array(pre_intervention_scores)\n",
    "    post_intervention_scores = np.array(post_intervention_scores)\n",
    "    \n",
    "    # Number of pairs\n",
    "    n = len(pre_intervention_scores)\n",
    "    \n",
    "    # Calculate differences\n",
    "    differences = post_intervention_scores - pre_intervention_scores\n",
    "    \n",
    "    # Mean and standard deviation of differences\n",
    "    mean_diff = np.mean(differences)\n",
    "    std_diff = np.std(differences, ddof=1)\n",
    "    \n",
    "    # T-statistic\n",
    "    t_statistic = mean_diff / (std_diff / np.sqrt(n))\n",
    "    \n",
    "    # Degrees of freedom\n",
    "    df = n - 1\n",
    "    \n",
    "    # P-value (two-tailed test)\n",
    "    p_value = 2 * (1 - t.cdf(np.abs(t_statistic), df=df))\n",
    "    \n",
    "    return t_statistic, df, p_value\n",
    "\n",
    "# Data\n",
    "pre_intervention_scores = [80, 85, 90, 75, 88, 82, 92, 78, 85, 87]\n",
    "post_intervention_scores = [90, 92, 88, 92, 95, 91, 96, 93, 89, 93]\n",
    "\n",
    "# Perform the paired t-test\n",
    "t_statistic, df, p_value = paired_t_test(pre_intervention_scores, post_intervention_scores)\n",
    "\n",
    "# Output results\n",
    "print(f\"T-statistic: {t_statistic:.4f}\")\n",
    "print(f\"Degrees of freedom: {df}\")\n",
    "print(f\"P-value: {p_value:.4f}\")\n",
    "\n",
    "# Determine significance\n",
    "alpha = 0.05\n",
    "if p_value < alpha:\n",
    "    print(\"The intervention had a significant impact on improving math scores.\")\n",
    "else:\n",
    "    print(\"There is no statistically significant difference in math scores due to the intervention.\")\n"
   ]
  },
  {
   "cell_type": "code",
   "execution_count": 89,
   "id": "81bbcb42-f2e7-48fd-a600-2a5d320784ca",
   "metadata": {},
   "outputs": [],
   "source": [
    "# 18. An HR department wants to investigate i@ there's a gender-based salary gap within the company. Develop a program to analyze salary data, calculate the t-statistic, and determine i@ there's a statistically signi@icant di@@erence between the average salaries o@ male and @emale employees."
   ]
  },
  {
   "cell_type": "code",
   "execution_count": 90,
   "id": "022d7d2f-d91e-4b7d-95e3-9ca6d3000df8",
   "metadata": {},
   "outputs": [
    {
     "name": "stdout",
     "output_type": "stream",
     "text": [
      "T-statistic: 0.0611\n",
      "Degrees of freedom: 0.0950\n",
      "P-value: 0.9824\n",
      "There is no statistically significant gender-based salary gap.\n"
     ]
    }
   ],
   "source": [
    "import numpy as np\n",
    "from scipy.stats import t\n",
    "\n",
    "def salary_gap_analysis(male_salaries, female_salaries):\n",
    "    # Convert lists to numpy arrays for calculations\n",
    "    male_salaries = np.array(male_salaries)\n",
    "    female_salaries = np.array(female_salaries)\n",
    "    \n",
    "    # Sample sizes\n",
    "    n1 = len(male_salaries)\n",
    "    n2 = len(female_salaries)\n",
    "    \n",
    "    # Means and variances\n",
    "    mean1 = np.mean(male_salaries)\n",
    "    mean2 = np.mean(female_salaries)\n",
    "    var1 = np.var(male_salaries, ddof=1)\n",
    "    var2 = np.var(female_salaries, ddof=1)\n",
    "    \n",
    "    # Pooled variance\n",
    "    pooled_var = ((n1 - 1) * var1 + (n2 - 1) * var2) / (n1 + n2 - 2)\n",
    "    \n",
    "    # T-statistic\n",
    "    t_statistic = (mean1 - mean2) / np.sqrt(pooled_var * (1/n1 + 1/n2))\n",
    "    \n",
    "    # Degrees of freedom\n",
    "    df = ((pooled_var * (1/n1 + 1/n2)) ** 2) / ((pooled_var ** 2 / (n1 - 1)) + (pooled_var ** 2 / (n2 - 1)))\n",
    "    \n",
    "    # P-value (two-tailed test)\n",
    "    p_value = 2 * (1 - t.cdf(np.abs(t_statistic), df=df))\n",
    "    \n",
    "    return t_statistic, df, p_value\n",
    "\n",
    "# Generate synthetic salary data\n",
    "np.random.seed(0)  # For reproducibility\n",
    "male_salaries = np.random.normal(loc=50000, scale=10000, size=20)\n",
    "female_salaries = np.random.normal(loc=55000, scale=9000, size=20)\n",
    "\n",
    "# Perform the t-test\n",
    "t_statistic, df, p_value = salary_gap_analysis(male_salaries, female_salaries)\n",
    "\n",
    "# Output results\n",
    "print(f\"T-statistic: {t_statistic:.4f}\")\n",
    "print(f\"Degrees of freedom: {df:.4f}\")\n",
    "print(f\"P-value: {p_value:.4f}\")\n",
    "\n",
    "# Determine significance\n",
    "alpha = 0.05\n",
    "if p_value < alpha:\n",
    "    print(\"There is a statistically significant gender-based salary gap.\")\n",
    "else:\n",
    "    print(\"There is no statistically significant gender-based salary gap.\")\n"
   ]
  },
  {
   "cell_type": "code",
   "execution_count": 91,
   "id": "4649d644-357a-40ba-bed6-0ffe5aa1a1c0",
   "metadata": {},
   "outputs": [],
   "source": [
    "# 19. A manu@acturer produces two di@@erent versions o@ a product and wants to compare their quality scores. Create a Python @unction to analyze quality assessment data, calculate the t-statistic, and decide whether there's a signi@icant di@@erence in quality between the two versions"
   ]
  },
  {
   "cell_type": "code",
   "execution_count": 92,
   "id": "7fb26637-0115-4a69-8b41-4afb2d087455",
   "metadata": {},
   "outputs": [
    {
     "name": "stdout",
     "output_type": "stream",
     "text": [
      "T-statistic: 11.3258\n",
      "Degrees of freedom: 0.0768\n",
      "P-value: 0.7147\n",
      "There is no statistically significant difference in quality scores between the two versions.\n"
     ]
    }
   ],
   "source": [
    "import numpy as np\n",
    "from scipy.stats import t\n",
    "\n",
    "def quality_comparison(version1_scores, version2_scores):\n",
    "    # Convert lists to numpy arrays for calculations\n",
    "    version1_scores = np.array(version1_scores)\n",
    "    version2_scores = np.array(version2_scores)\n",
    "    \n",
    "    # Sample sizes\n",
    "    n1 = len(version1_scores)\n",
    "    n2 = len(version2_scores)\n",
    "    \n",
    "    # Means and variances\n",
    "    mean1 = np.mean(version1_scores)\n",
    "    mean2 = np.mean(version2_scores)\n",
    "    var1 = np.var(version1_scores, ddof=1)\n",
    "    var2 = np.var(version2_scores, ddof=1)\n",
    "    \n",
    "    # Pooled variance\n",
    "    pooled_var = ((n1 - 1) * var1 + (n2 - 1) * var2) / (n1 + n2 - 2)\n",
    "    \n",
    "    # T-statistic\n",
    "    t_statistic = (mean1 - mean2) / np.sqrt(pooled_var * (1/n1 + 1/n2))\n",
    "    \n",
    "    # Degrees of freedom\n",
    "    df = ((pooled_var * (1/n1 + 1/n2)) ** 2) / ((pooled_var ** 2 / (n1 - 1)) + (pooled_var ** 2 / (n2 - 1)))\n",
    "    \n",
    "    # P-value (two-tailed test)\n",
    "    p_value = 2 * (1 - t.cdf(np.abs(t_statistic), df=df))\n",
    "    \n",
    "    return t_statistic, df, p_value\n",
    "\n",
    "# Quality scores\n",
    "version1_scores = [85, 88, 82, 89, 87, 84, 90, 88, 85, 86, 91, 83, 87, 84, 89, 86, 84, 88, 85, 86, 89, 90, 87, 88, 85]\n",
    "version2_scores = [80, 78, 83, 81, 79, 82, 76, 80, 78, 81, 77, 82, 80, 79, 82, 79, 80, 81, 79, 82, 79, 78, 80, 81, 82]\n",
    "\n",
    "# Perform the t-test\n",
    "t_statistic, df, p_value = quality_comparison(version1_scores, version2_scores)\n",
    "\n",
    "# Output results\n",
    "print(f\"T-statistic: {t_statistic:.4f}\")\n",
    "print(f\"Degrees of freedom: {df:.4f}\")\n",
    "print(f\"P-value: {p_value:.4f}\")\n",
    "\n",
    "# Determine significance\n",
    "alpha = 0.05\n",
    "if p_value < alpha:\n",
    "    print(\"There is a statistically significant difference in quality scores between the two versions.\")\n",
    "else:\n",
    "    print(\"There is no statistically significant difference in quality scores between the two versions.\")\n"
   ]
  },
  {
   "cell_type": "code",
   "execution_count": 93,
   "id": "66af9c7d-431b-40cc-ab12-cc4a9719ca5a",
   "metadata": {},
   "outputs": [],
   "source": [
    "#  20. A restaurant chain collects customer satis@action scores @or two di@@erent branches. Write a program to analyze the scores, calculate the t-statistic, and determine i@ there's a statistically signi@icant di@@erence in customer satis@action between the branches."
   ]
  },
  {
   "cell_type": "code",
   "execution_count": 94,
   "id": "7f1555a4-0973-4489-a5c7-4d8700dbdf0c",
   "metadata": {},
   "outputs": [
    {
     "name": "stdout",
     "output_type": "stream",
     "text": [
      "T-statistic: 5.4801\n",
      "Degrees of freedom: 0.0624\n",
      "P-value: 0.7909\n",
      "There is no statistically significant difference in customer satisfaction scores between the two branches.\n"
     ]
    }
   ],
   "source": [
    "import numpy as np\n",
    "from scipy.stats import t\n",
    "\n",
    "def satisfaction_comparison(branch_a_scores, branch_b_scores):\n",
    "    # Convert lists to numpy arrays for calculations\n",
    "    branch_a_scores = np.array(branch_a_scores)\n",
    "    branch_b_scores = np.array(branch_b_scores)\n",
    "    \n",
    "    # Sample sizes\n",
    "    n1 = len(branch_a_scores)\n",
    "    n2 = len(branch_b_scores)\n",
    "    \n",
    "    # Means and variances\n",
    "    mean1 = np.mean(branch_a_scores)\n",
    "    mean2 = np.mean(branch_b_scores)\n",
    "    var1 = np.var(branch_a_scores, ddof=1)\n",
    "    var2 = np.var(branch_b_scores, ddof=1)\n",
    "    \n",
    "    # Pooled variance\n",
    "    pooled_var = ((n1 - 1) * var1 + (n2 - 1) * var2) / (n1 + n2 - 2)\n",
    "    \n",
    "    # T-statistic\n",
    "    t_statistic = (mean1 - mean2) / np.sqrt(pooled_var * (1/n1 + 1/n2))\n",
    "    \n",
    "    # Degrees of freedom\n",
    "    df = ((pooled_var * (1/n1 + 1/n2)) ** 2) / ((pooled_var ** 2 / (n1 - 1)) + (pooled_var ** 2 / (n2 - 1)))\n",
    "    \n",
    "    # P-value (two-tailed test)\n",
    "    p_value = 2 * (1 - t.cdf(np.abs(t_statistic), df=df))\n",
    "    \n",
    "    return t_statistic, df, p_value\n",
    "\n",
    "# Customer satisfaction scores\n",
    "branch_a_scores = [4, 5, 3, 4, 5, 4, 5, 3, 4, 4, 5, 4, 4, 3, 4, 5, 5, 4, 3, 4, 5, 4, 3, 5, 4, 4, 5, 3, 4, 5, 4]\n",
    "branch_b_scores = [3, 4, 2, 3, 4, 3, 4, 2, 3, 3, 4, 3, 3, 2, 3, 4, 4, 3, 2, 3, 4, 3, 2, 4, 3, 3, 4, 2, 3, 4, 3]\n",
    "\n",
    "# Perform the t-test\n",
    "t_statistic, df, p_value = satisfaction_comparison(branch_a_scores, branch_b_scores)\n",
    "\n",
    "# Output results\n",
    "print(f\"T-statistic: {t_statistic:.4f}\")\n",
    "print(f\"Degrees of freedom: {df:.4f}\")\n",
    "print(f\"P-value: {p_value:.4f}\")\n",
    "\n",
    "# Determine significance\n",
    "alpha = 0.05\n",
    "if p_value < alpha:\n",
    "    print(\"There is a statistically significant difference in customer satisfaction scores between the two branches.\")\n",
    "else:\n",
    "    print(\"There is no statistically significant difference in customer satisfaction scores between the two branches.\")\n"
   ]
  },
  {
   "cell_type": "code",
   "execution_count": 95,
   "id": "ca8453bb-c8e1-48a9-b211-60b1d41be204",
   "metadata": {},
   "outputs": [],
   "source": [
    "# 21. A political analyst wants to determine i@ there is a signi@icant association between age groups and voter pre@erences FCandidate A or Candidate B). They collect data @rom a sample o@ 500 voters and classi@y them into di@@erent age groups and candidate pre@erences. Per@orm a Chi-Square test to determine i@ there is a signi@icant association between age groups and voter pre@erences."
   ]
  },
  {
   "cell_type": "code",
   "execution_count": 96,
   "id": "77c5d076-dff1-4832-9586-c6923013f428",
   "metadata": {},
   "outputs": [
    {
     "name": "stdout",
     "output_type": "stream",
     "text": [
      "Chi-Square Statistic: 0.8780\n",
      "P-value: 0.6447\n",
      "Degrees of Freedom: 2\n",
      "Expected Frequencies:\n",
      "[[96.824 85.176]\n",
      " [89.908 79.092]\n",
      " [79.268 69.732]]\n",
      "There is no statistically significant association between age groups and voter preferences.\n"
     ]
    }
   ],
   "source": [
    "import numpy as np\n",
    "import pandas as pd\n",
    "from scipy.stats import chi2_contingency\n",
    "\n",
    "def chi_square_test(age_groups, voter_preferences):\n",
    "    # Create a DataFrame to represent the contingency table\n",
    "    data = pd.DataFrame({\n",
    "        'Age Group': age_groups,\n",
    "        'Voter Preference': voter_preferences\n",
    "    })\n",
    "\n",
    "    # Create the contingency table\n",
    "    contingency_table = pd.crosstab(data['Age Group'], data['Voter Preference'])\n",
    "\n",
    "    # Perform Chi-Square test\n",
    "    chi2_stat, p_value, dof, expected = chi2_contingency(contingency_table)\n",
    "    \n",
    "    return chi2_stat, p_value, dof, expected\n",
    "\n",
    "# Generate data\n",
    "np.random.seed(0)\n",
    "\n",
    "age_groups = np.random.choice(['18-30', '31-50', '51+'], size=500)\n",
    "voter_preferences = np.random.choice(['Candidate A', 'Candidate B'], size=500)\n",
    "\n",
    "# Perform Chi-Square test\n",
    "chi2_stat, p_value, dof, expected = chi_square_test(age_groups, voter_preferences)\n",
    "\n",
    "# Output results\n",
    "print(f\"Chi-Square Statistic: {chi2_stat:.4f}\")\n",
    "print(f\"P-value: {p_value:.4f}\")\n",
    "print(f\"Degrees of Freedom: {dof}\")\n",
    "print(\"Expected Frequencies:\")\n",
    "print(expected)\n",
    "\n",
    "# Determine significance\n",
    "alpha = 0.05\n",
    "if p_value < alpha:\n",
    "    print(\"There is a statistically significant association between age groups and voter preferences.\")\n",
    "else:\n",
    "    print(\"There is no statistically significant association between age groups and voter preferences.\")\n"
   ]
  },
  {
   "cell_type": "code",
   "execution_count": 97,
   "id": "41defa66-f445-47fb-af84-816801e1a838",
   "metadata": {},
   "outputs": [],
   "source": [
    "#  22. A company conducted a customer satisfaction survey to determine if there is a significant relationship between product satisfaction levels (Satisfied, Neutral, Dissatisfied) and the region where customers are located (East, West, North, South). The survey data is summarized in a contingency table. Conduct a ChiSquare test to determine if there is a significant relationship between product satisfaction levels and customer regions."
   ]
  },
  {
   "cell_type": "code",
   "execution_count": 98,
   "id": "c8347ec8-27c3-48f5-898c-5704b4a17052",
   "metadata": {},
   "outputs": [
    {
     "name": "stdout",
     "output_type": "stream",
     "text": [
      "Chi-Square Statistic: 27.7771\n",
      "P-value: 0.0001\n",
      "Degrees of Freedom: 6\n",
      "Expected Frequencies:\n",
      "[[34.14634146 34.14634146 37.56097561 34.14634146]\n",
      " [36.58536585 36.58536585 40.24390244 36.58536585]\n",
      " [29.26829268 29.26829268 32.19512195 29.26829268]]\n",
      "There is a statistically significant relationship between product satisfaction levels and customer regions.\n"
     ]
    }
   ],
   "source": [
    "import numpy as np\n",
    "from scipy.stats import chi2_contingency\n",
    "\n",
    "def chi_square_test(data):\n",
    "    # Perform Chi-Square test\n",
    "    chi2_stat, p_value, dof, expected = chi2_contingency(data)\n",
    "    \n",
    "    return chi2_stat, p_value, dof, expected\n",
    "\n",
    "# Sample data: Product satisfaction levels (rows) vs. Customer regions (columns)\n",
    "data = np.array([[50, 30, 40, 20], \n",
    "                 [30, 40, 30, 50], \n",
    "                 [20, 30, 40, 30]])\n",
    "\n",
    "# Perform Chi-Square test\n",
    "chi2_stat, p_value, dof, expected = chi_square_test(data)\n",
    "\n",
    "# Output results\n",
    "print(f\"Chi-Square Statistic: {chi2_stat:.4f}\")\n",
    "print(f\"P-value: {p_value:.4f}\")\n",
    "print(f\"Degrees of Freedom: {dof}\")\n",
    "print(\"Expected Frequencies:\")\n",
    "print(expected)\n",
    "\n",
    "# Determine significance\n",
    "alpha = 0.05\n",
    "if p_value < alpha:\n",
    "    print(\"There is a statistically significant relationship between product satisfaction levels and customer regions.\")\n",
    "else:\n",
    "    print(\"There is no statistically significant relationship between product satisfaction levels and customer regions.\")\n"
   ]
  },
  {
   "cell_type": "code",
   "execution_count": 99,
   "id": "f8b3b6f5-1984-4290-8be7-06d8f5dbd111",
   "metadata": {},
   "outputs": [],
   "source": [
    "#  23. A company implemented an employee training program to improve job performance (Effective, Neutral, Ineffective). After the training, they collected data from a sample of employees and classified them based on their job performance before and after the training. Perform a Chi-Square test to determine if there is a significant difference between job performance levels before and after the training."
   ]
  },
  {
   "cell_type": "code",
   "execution_count": 100,
   "id": "02a1c318-8ded-4f62-a3ac-27c1956f79a1",
   "metadata": {},
   "outputs": [
    {
     "name": "stdout",
     "output_type": "stream",
     "text": [
      "Chi-Square Statistic: 22.1617\n",
      "P-value: 0.0002\n",
      "Degrees of Freedom: 4\n",
      "Expected Frequencies:\n",
      "[[34.48275862 34.48275862 31.03448276]\n",
      " [34.48275862 34.48275862 31.03448276]\n",
      " [31.03448276 31.03448276 27.93103448]]\n",
      "There is a statistically significant difference in job performance levels before and after training.\n"
     ]
    }
   ],
   "source": [
    "import numpy as np\n",
    "from scipy.stats import chi2_contingency\n",
    "\n",
    "def chi_square_test(data):\n",
    "    # Perform Chi-Square test\n",
    "    chi2_stat, p_value, dof, expected = chi2_contingency(data)\n",
    "    \n",
    "    return chi2_stat, p_value, dof, expected\n",
    "\n",
    "# Sample data: Job performance levels before (rows) and after (columns) training\n",
    "data = np.array([[50, 30, 20], \n",
    "                 [30, 40, 30], \n",
    "                 [20, 30, 40]])\n",
    "\n",
    "# Perform Chi-Square test\n",
    "chi2_stat, p_value, dof, expected = chi_square_test(data)\n",
    "\n",
    "# Output results\n",
    "print(f\"Chi-Square Statistic: {chi2_stat:.4f}\")\n",
    "print(f\"P-value: {p_value:.4f}\")\n",
    "print(f\"Degrees of Freedom: {dof}\")\n",
    "print(\"Expected Frequencies:\")\n",
    "print(expected)\n",
    "\n",
    "# Determine significance\n",
    "alpha = 0.05\n",
    "if p_value < alpha:\n",
    "    print(\"There is a statistically significant difference in job performance levels before and after training.\")\n",
    "else:\n",
    "    print(\"There is no statistically significant difference in job performance levels before and after training.\")\n"
   ]
  },
  {
   "cell_type": "code",
   "execution_count": 101,
   "id": "5de21d4d-a7e6-40df-b7de-089d6acda492",
   "metadata": {},
   "outputs": [],
   "source": [
    "#  24. A company produces three different versions of a product: Standard, Premium, and Deluxe. The company wants to determine if there is a significant difference in customer satisfaction scores among the three product versions. They conducted a survey and collected customer satisfaction scores for each version from a random sample of customers. Perform an ANOVA test to determine if there is a significant difference in customer satisfaction scores."
   ]
  },
  {
   "cell_type": "code",
   "execution_count": 102,
   "id": "4dbc7954-3f47-487a-a6e4-75e6ec1b3dce",
   "metadata": {},
   "outputs": [
    {
     "name": "stdout",
     "output_type": "stream",
     "text": [
      "F-Statistic: 27.0356\n",
      "P-value: 0.0000\n",
      "There is a statistically significant difference in customer satisfaction scores among the product versions.\n"
     ]
    }
   ],
   "source": [
    "import numpy as np\n",
    "from scipy.stats import f_oneway\n",
    "\n",
    "def anova_test(*groups):\n",
    "    # Perform ANOVA test\n",
    "    f_stat, p_value = f_oneway(*groups)\n",
    "    return f_stat, p_value\n",
    "\n",
    "# Sample data: Customer satisfaction scores for each product version\n",
    "standard_scores = [80, 85, 90, 78, 88, 82, 92, 78, 85, 87]\n",
    "premium_scores = [90, 92, 88, 92, 95, 91, 96, 93, 89, 93]\n",
    "deluxe_scores = [95, 98, 92, 97, 96, 94, 98, 97, 92, 99]\n",
    "\n",
    "# Perform ANOVA test\n",
    "f_stat, p_value = anova_test(standard_scores, premium_scores, deluxe_scores)\n",
    "\n",
    "# Output results\n",
    "print(f\"F-Statistic: {f_stat:.4f}\")\n",
    "print(f\"P-value: {p_value:.4f}\")\n",
    "\n",
    "# Determine significance\n",
    "alpha = 0.05\n",
    "if p_value < alpha:\n",
    "    print(\"There is a statistically significant difference in customer satisfaction scores among the product versions.\")\n",
    "else:\n",
    "    print(\"There is no statistically significant difference in customer satisfaction scores among the product versions.\")\n"
   ]
  },
  {
   "cell_type": "code",
   "execution_count": null,
   "id": "1286e059-39ab-4eae-be9b-cbbd2c689a42",
   "metadata": {},
   "outputs": [],
   "source": []
  }
 ],
 "metadata": {
  "kernelspec": {
   "display_name": "Python 3 (ipykernel)",
   "language": "python",
   "name": "python3"
  },
  "language_info": {
   "codemirror_mode": {
    "name": "ipython",
    "version": 3
   },
   "file_extension": ".py",
   "mimetype": "text/x-python",
   "name": "python",
   "nbconvert_exporter": "python",
   "pygments_lexer": "ipython3",
   "version": "3.10.8"
  }
 },
 "nbformat": 4,
 "nbformat_minor": 5
}
